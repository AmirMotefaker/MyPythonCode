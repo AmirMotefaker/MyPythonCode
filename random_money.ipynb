import random
random.seed()
#for i in range (1, 10):
#    print(random.randrange(0, 2))
    
#return 0
