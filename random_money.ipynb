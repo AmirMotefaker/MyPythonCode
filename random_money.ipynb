# Step0
# Code by amotef@gmail.com

# Random_Money
# this code run with Jupyter Notebook

# farz konid yek otagh darim ke tosh 50 nafar adam hastand.va ha kodom az in adamha 100 dolar pol darand.
# man miram to va yek beshkan mizanam,vaghti man beshkan mizanam har adami 1$ be ye adame random mideh,
# beshkan badi ro ke mizanam har adami 1$ be ye adamae random dige mideh,...
# (dar vagh az in tarigh dareh pol jabeja mishe). bad az ye modat chi misheh?
# agar kasi polesh tamom shode boud, dige to bazi nist.
# pas man ba har beshkanam ye adami(dar vagh har kodom az on adamha) 1$ random be ye adam dige midan.


# Step1
import random
random.seed()
#for i in range (1, 10):
#    print(random.randrange(0, 2))
    
#return 0
